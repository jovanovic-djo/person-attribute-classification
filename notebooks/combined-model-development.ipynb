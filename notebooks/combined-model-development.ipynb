{
 "cells": [
  {
   "cell_type": "code",
   "execution_count": 3,
   "metadata": {},
   "outputs": [],
   "source": [
    "import numpy as np\n",
    "import pandas as pd\n",
    "import matplotlib.pyplot  as plt\n",
    "from keras import layers as L\n",
    "from keras import Input\n",
    "from keras import Model\n",
    "from sklearn.model_selection import train_test_split\n",
    "import tensorflow as tf\n",
    "from tensorflow.keras.utils import to_categorical\n"
   ]
  },
  {
   "cell_type": "code",
   "execution_count": 38,
   "metadata": {},
   "outputs": [
    {
     "data": {
      "text/html": [
       "<div>\n",
       "<style scoped>\n",
       "    .dataframe tbody tr th:only-of-type {\n",
       "        vertical-align: middle;\n",
       "    }\n",
       "\n",
       "    .dataframe tbody tr th {\n",
       "        vertical-align: top;\n",
       "    }\n",
       "\n",
       "    .dataframe thead th {\n",
       "        text-align: right;\n",
       "    }\n",
       "</style>\n",
       "<table border=\"1\" class=\"dataframe\">\n",
       "  <thead>\n",
       "    <tr style=\"text-align: right;\">\n",
       "      <th></th>\n",
       "      <th>age</th>\n",
       "      <th>ethnicity</th>\n",
       "      <th>gender</th>\n",
       "      <th>pixels</th>\n",
       "    </tr>\n",
       "  </thead>\n",
       "  <tbody>\n",
       "    <tr>\n",
       "      <th>23700</th>\n",
       "      <td>99</td>\n",
       "      <td>0</td>\n",
       "      <td>1</td>\n",
       "      <td>[0.49803922, 0.39215687, 0.36862746, 0.3176470...</td>\n",
       "    </tr>\n",
       "    <tr>\n",
       "      <th>23701</th>\n",
       "      <td>99</td>\n",
       "      <td>1</td>\n",
       "      <td>1</td>\n",
       "      <td>[0.09019608, 0.10980392, 0.1254902, 0.13725491...</td>\n",
       "    </tr>\n",
       "    <tr>\n",
       "      <th>23702</th>\n",
       "      <td>99</td>\n",
       "      <td>2</td>\n",
       "      <td>1</td>\n",
       "      <td>[0.23137255, 0.19607843, 0.14509805, 0.1568627...</td>\n",
       "    </tr>\n",
       "    <tr>\n",
       "      <th>23703</th>\n",
       "      <td>99</td>\n",
       "      <td>2</td>\n",
       "      <td>1</td>\n",
       "      <td>[0.1764706, 0.42352942, 0.47058824, 0.6117647,...</td>\n",
       "    </tr>\n",
       "    <tr>\n",
       "      <th>23704</th>\n",
       "      <td>99</td>\n",
       "      <td>0</td>\n",
       "      <td>1</td>\n",
       "      <td>[0.6117647, 0.6313726, 0.627451, 0.64705884, 0...</td>\n",
       "    </tr>\n",
       "  </tbody>\n",
       "</table>\n",
       "</div>"
      ],
      "text/plain": [
       "       age  ethnicity  gender  \\\n",
       "23700   99          0       1   \n",
       "23701   99          1       1   \n",
       "23702   99          2       1   \n",
       "23703   99          2       1   \n",
       "23704   99          0       1   \n",
       "\n",
       "                                                  pixels  \n",
       "23700  [0.49803922, 0.39215687, 0.36862746, 0.3176470...  \n",
       "23701  [0.09019608, 0.10980392, 0.1254902, 0.13725491...  \n",
       "23702  [0.23137255, 0.19607843, 0.14509805, 0.1568627...  \n",
       "23703  [0.1764706, 0.42352942, 0.47058824, 0.6117647,...  \n",
       "23704  [0.6117647, 0.6313726, 0.627451, 0.64705884, 0...  "
      ]
     },
     "execution_count": 38,
     "metadata": {},
     "output_type": "execute_result"
    }
   ],
   "source": [
    "df = pd.read_csv(\"../data/people_data.csv\")\n",
    "df = df.drop(\"img_name\",axis=1)\n",
    "df[\"pixels\"] = df[\"pixels\"].apply(lambda x: np.array(x.split(),dtype=\"float32\"))\n",
    "df[\"pixels\"] = df[\"pixels\"] / 255\n",
    "df.tail()"
   ]
  },
  {
   "cell_type": "code",
   "execution_count": 39,
   "metadata": {},
   "outputs": [
    {
     "name": "stdout",
     "output_type": "stream",
     "text": [
      "Single Image Shape:\n",
      "(2304,)\n",
      "Total Shape:\n",
      "(23705,)\n"
     ]
    }
   ],
   "source": [
    "x_train = np.zeros(shape=(23705,2304))\n",
    "\n",
    "for indexing in range(len(df[\"pixels\"])):\n",
    "    x_train[indexing] = df[\"pixels\"][indexing]\n",
    "\n",
    "x_train = x_train.reshape(-1,48,48,1)\n"
   ]
  },
  {
   "cell_type": "code",
   "execution_count": null,
   "metadata": {},
   "outputs": [],
   "source": []
  }
 ],
 "metadata": {
  "kernelspec": {
   "display_name": "venv",
   "language": "python",
   "name": "python3"
  },
  "language_info": {
   "codemirror_mode": {
    "name": "ipython",
    "version": 3
   },
   "file_extension": ".py",
   "mimetype": "text/x-python",
   "name": "python",
   "nbconvert_exporter": "python",
   "pygments_lexer": "ipython3",
   "version": "3.12.0"
  }
 },
 "nbformat": 4,
 "nbformat_minor": 2
}
