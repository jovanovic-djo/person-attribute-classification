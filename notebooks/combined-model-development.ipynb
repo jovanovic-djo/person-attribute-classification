{
 "cells": [
  {
   "cell_type": "code",
   "execution_count": 17,
   "metadata": {},
   "outputs": [],
   "source": [
    "import numpy as np\n",
    "import pandas as pd\n",
    "import matplotlib.pyplot  as plt\n",
    "from keras import layers as L\n",
    "from keras import Input\n",
    "from keras import Model\n",
    "from sklearn.model_selection import train_test_split\n",
    "import tensorflow as tf\n",
    "from tensorflow.keras.utils import to_categorical\n"
   ]
  },
  {
   "cell_type": "code",
   "execution_count": 6,
   "metadata": {},
   "outputs": [
    {
     "name": "stdout",
     "output_type": "stream",
     "text": [
      "   age  ethnicity  gender                        img_name  \\\n",
      "0    1          2       0  20161219203650636.jpg.chip.jpg   \n",
      "1    1          2       0  20161219222752047.jpg.chip.jpg   \n",
      "2    1          2       0  20161219222832191.jpg.chip.jpg   \n",
      "3    1          2       0  20161220144911423.jpg.chip.jpg   \n",
      "4    1          2       0  20161220144914327.jpg.chip.jpg   \n",
      "\n",
      "                                              pixels  \n",
      "0  129 128 128 126 127 130 133 135 139 142 145 14...  \n",
      "1  164 74 111 168 169 171 175 182 184 188 193 199...  \n",
      "2  67 70 71 70 69 67 70 79 90 103 116 132 145 155...  \n",
      "3  193 197 198 200 199 200 202 203 204 205 208 21...  \n",
      "4  202 205 209 210 209 209 210 211 212 214 218 21...  \n"
     ]
    }
   ],
   "source": [
    "df = pd.read_csv(\"../data/people_data.csv\")\n",
    "print(df.head())\n",
    "df = df.drop(\"img_name\",axis=1)"
   ]
  },
  {
   "cell_type": "code",
   "execution_count": 7,
   "metadata": {},
   "outputs": [],
   "source": [
    "df[\"pixels\"] = df[\"pixels\"].apply(lambda x: np.array(x.split(),dtype=\"float32\"))\n",
    "df[\"pixels\"] = df[\"pixels\"] / 255"
   ]
  },
  {
   "cell_type": "code",
   "execution_count": 8,
   "metadata": {},
   "outputs": [],
   "source": [
    "if isinstance(df['pixels'].iloc[0], str):\n",
    "    df['pixels'] = df['pixels'].apply(lambda x: np.array(x.split(), dtype='float32').reshape(48, 48, 1))\n",
    "else:\n",
    "    df['pixels'] = df['pixels'].apply(lambda x: x.reshape(48, 48, 1))\n",
    "\n",
    "age = df['age'].values\n",
    "gender = df['gender'].values  # Ensure binary (0 or 1)\n",
    "ethnicity = to_categorical(df['ethnicity'].values, num_classes=5)\n",
    "\n",
    "x_train, x_test, age_train, age_test, gender_train, gender_test, ethnicity_train, ethnicity_test = train_test_split(\n",
    "    np.stack(df['pixels'].values),\n",
    "    age,\n",
    "    gender,\n",
    "    ethnicity,\n",
    "    test_size=0.2,\n",
    "    random_state=42\n",
    ")\n",
    "\n",
    "# Reshape age and gender labels to (num_samples, 1)\n",
    "age_train = age_train.reshape(-1, 1)\n",
    "age_test = age_test.reshape(-1, 1)\n",
    "gender_train = gender_train.reshape(-1, 1)\n",
    "gender_test = gender_test.reshape(-1, 1)\n",
    "\n",
    "input_img = Input(shape=(48, 48, 1))"
   ]
  },
  {
   "cell_type": "code",
   "execution_count": 9,
   "metadata": {},
   "outputs": [],
   "source": [
    "# x_train = np.zeros(shape=(23705,2304))\n",
    "\n",
    "# for indexing in range(len(df[\"pixels\"])):\n",
    "#     x_train[indexing] = df[\"pixels\"][indexing]"
   ]
  },
  {
   "cell_type": "code",
   "execution_count": 10,
   "metadata": {},
   "outputs": [],
   "source": [
    "# x_train = x_train.reshape(-1,48,48,1)"
   ]
  },
  {
   "cell_type": "code",
   "execution_count": 11,
   "metadata": {},
   "outputs": [],
   "source": [
    "# x = x_train\n",
    "# y = df.iloc[:, :-1].values"
   ]
  },
  {
   "cell_type": "code",
   "execution_count": 12,
   "metadata": {},
   "outputs": [],
   "source": [
    "# x_train,x_test,y_train,y_test = train_test_split(x, y, train_size=0.8, random_state=35, shuffle=True)"
   ]
  },
  {
   "cell_type": "code",
   "execution_count": 13,
   "metadata": {},
   "outputs": [],
   "source": [
    "early_stopper = tf.keras.callbacks.EarlyStopping(\n",
    "    monitor=\"val_loss\",\n",
    "    patience=10,\n",
    "    restore_best_weights=True\n",
    "    )\n",
    "\n",
    "# checkpoint_model = tf.keras.callbacks.ModelCheckpoint(\n",
    "#     monitor=\"val_accuracy\",\n",
    "#     save_best_only=True,\n",
    "#     save_weights_only=False,\n",
    "#     filepath=\"./.keras\"\n",
    "#     )"
   ]
  },
  {
   "cell_type": "code",
   "execution_count": 14,
   "metadata": {},
   "outputs": [],
   "source": [
    "COMPILE_OPTIMIZER = tf.keras.optimizers.Adam(learning_rate=0.0001)\n",
    "COMPILE_LOSS = \"msle\"\n",
    "COMPILE_METRICS = [\"accuracy\"]\n",
    "INPUT_SHAPE = (x_train.shape[1],x_train.shape[2],x_train.shape[3])\n",
    "OUTPUT_CLASS = 3"
   ]
  },
  {
   "cell_type": "code",
   "execution_count": 15,
   "metadata": {},
   "outputs": [],
   "source": [
    "# model = tf.keras.Sequential()\n",
    "\n",
    "# model.add(L.Input(shape=INPUT_SHAPE))\n",
    "# model.add(L.Conv2D(32, (3, 3), activation=\"relu\"))\n",
    "# model.add(L.BatchNormalization())\n",
    "# model.add(L.MaxPooling2D((2, 2)))\n",
    "\n",
    "# model.add(L.Conv2D(64,(3,3),activation=\"relu\"))\n",
    "# model.add(L.Dropout(0.3))\n",
    "# model.add(L.MaxPooling2D((2,2)))\n",
    "# model.add(L.BatchNormalization())\n",
    "\n",
    "# model.add(L.Conv2D(128,(3,3),activation=\"relu\"))\n",
    "# model.add(L.Dropout(0.3))\n",
    "# model.add(L.MaxPooling2D((2,2)))\n",
    "# model.add(L.BatchNormalization())\n",
    "\n",
    "\n",
    "# model.add(L.Flatten())\n",
    "# model.add(L.Dense(128,activation=\"relu\"))\n",
    "# model.add(L.BatchNormalization())\n",
    "# model.add(L.Dropout(0.5))\n",
    "# model.add(L.Dense(64,activation=\"relu\"))\n",
    "# model.add(L.BatchNormalization())\n",
    "# model.add(L.Dropout(0.5))\n",
    "# model.add(L.Dense(OUTPUT_CLASS,activation=\"softmax\"))"
   ]
  },
  {
   "cell_type": "code",
   "execution_count": 19,
   "metadata": {},
   "outputs": [],
   "source": [
    "\n",
    "x = L.Conv2D(32, (3, 3), activation='relu')(input_img)\n",
    "x = L.MaxPooling2D(pool_size=(2, 2))(x)\n",
    "x = L.Conv2D(64, (3, 3), activation='relu')(x)\n",
    "x = L.MaxPooling2D(pool_size=(2, 2))(x)\n",
    "x = L.Conv2D(128, (3, 3), activation='relu')(x)\n",
    "x = L.Flatten()(x)\n",
    "x = L.Dense(256, activation='relu')(x)\n",
    "x = L.Dropout(0.5)(x)\n",
    "\n",
    "# Output layers\n",
    "age_output = L.Dense(1, name='age_output')(x)\n",
    "gender_output = L.Dense(1, activation='sigmoid', name='gender_output')(x)\n",
    "ethnicity_output = L.Dense(5, activation='softmax', name='ethnicity_output')(x)\n",
    "\n",
    "# Define the model\n",
    "model = Model(inputs=input_img, outputs=[age_output, gender_output, ethnicity_output])\n",
    "\n",
    "\n",
    "# model.compile(optimizer=COMPILE_OPTIMIZER,loss=COMPILE_LOSS,metrics=COMPILE_METRICS)\n",
    "\n",
    "# Compile the model with appropriate loss functions and metrics\n",
    "model.compile(\n",
    "    optimizer=tf.keras.optimizers.Adam(),\n",
    "    loss={\n",
    "        'age_output': 'mse',\n",
    "        'gender_output': 'binary_crossentropy',\n",
    "        'ethnicity_output': 'categorical_crossentropy'\n",
    "    },\n",
    "    metrics={\n",
    "        'age_output': 'mae',\n",
    "        'gender_output': 'accuracy',  # Accuracy\n",
    "        'ethnicity_output': 'accuracy'  # Accuracy\n",
    "    }\n",
    ")"
   ]
  },
  {
   "cell_type": "code",
   "execution_count": 21,
   "metadata": {},
   "outputs": [
    {
     "name": "stdout",
     "output_type": "stream",
     "text": [
      "Epoch 1/5\n"
     ]
    },
    {
     "name": "stderr",
     "output_type": "stream",
     "text": [
      "c:\\Users\\gatz0\\Desktop\\Projects\\person-attribute-classification\\venv\\Lib\\site-packages\\keras\\src\\losses\\losses.py:27: SyntaxWarning: In loss categorical_crossentropy, expected y_pred.shape to be (batch_size, num_classes) with num_classes > 1. Received: y_pred.shape=(None, 1). Consider using 'binary_crossentropy' if you only have 2 classes.\n",
      "  return self.fn(y_true, y_pred, **self._fn_kwargs)\n"
     ]
    },
    {
     "ename": "ValueError",
     "evalue": "Arguments `target` and `output` must have the same shape. Received: target.shape=(None, 5), output.shape=(None, 1)",
     "output_type": "error",
     "traceback": [
      "\u001b[1;31m---------------------------------------------------------------------------\u001b[0m",
      "\u001b[1;31mValueError\u001b[0m                                Traceback (most recent call last)",
      "Cell \u001b[1;32mIn[21], line 18\u001b[0m\n\u001b[0;32m      2\u001b[0m path \u001b[38;5;241m=\u001b[39m \u001b[38;5;124m'\u001b[39m\u001b[38;5;124m../models/test_model.h5\u001b[39m\u001b[38;5;124m'\u001b[39m \u001b[38;5;66;03m### Test\u001b[39;00m\n\u001b[0;32m      4\u001b[0m \u001b[38;5;66;03m# model_history = model.fit(\u001b[39;00m\n\u001b[0;32m      5\u001b[0m \u001b[38;5;66;03m#     x_train, y_train,\u001b[39;00m\n\u001b[0;32m      6\u001b[0m \u001b[38;5;66;03m#     validation_data=(\u001b[39;00m\n\u001b[1;32m   (...)\u001b[0m\n\u001b[0;32m     16\u001b[0m \n\u001b[0;32m     17\u001b[0m \u001b[38;5;66;03m### TEST\u001b[39;00m\n\u001b[1;32m---> 18\u001b[0m model_history \u001b[38;5;241m=\u001b[39m \u001b[43mmodel\u001b[49m\u001b[38;5;241;43m.\u001b[39;49m\u001b[43mfit\u001b[49m\u001b[43m(\u001b[49m\n\u001b[0;32m     19\u001b[0m \u001b[43m    \u001b[49m\u001b[43mx_train\u001b[49m\u001b[43m,\u001b[49m\u001b[43m \u001b[49m\n\u001b[0;32m     20\u001b[0m \u001b[43m    \u001b[49m\u001b[43m{\u001b[49m\n\u001b[0;32m     21\u001b[0m \u001b[43m        \u001b[49m\u001b[38;5;124;43m'\u001b[39;49m\u001b[38;5;124;43mage_output\u001b[39;49m\u001b[38;5;124;43m'\u001b[39;49m\u001b[43m:\u001b[49m\u001b[43m \u001b[49m\u001b[43mage_train\u001b[49m\u001b[43m,\u001b[49m\u001b[43m \u001b[49m\n\u001b[0;32m     22\u001b[0m \u001b[43m        \u001b[49m\u001b[38;5;124;43m'\u001b[39;49m\u001b[38;5;124;43mgender_output\u001b[39;49m\u001b[38;5;124;43m'\u001b[39;49m\u001b[43m:\u001b[49m\u001b[43m \u001b[49m\u001b[43mgender_train\u001b[49m\u001b[43m,\u001b[49m\u001b[43m \u001b[49m\n\u001b[0;32m     23\u001b[0m \u001b[43m        \u001b[49m\u001b[38;5;124;43m'\u001b[39;49m\u001b[38;5;124;43methnicity_output\u001b[39;49m\u001b[38;5;124;43m'\u001b[39;49m\u001b[43m:\u001b[49m\u001b[43m \u001b[49m\u001b[43methnicity_train\u001b[49m\n\u001b[0;32m     24\u001b[0m \u001b[43m    \u001b[49m\u001b[43m}\u001b[49m\u001b[43m,\u001b[49m\n\u001b[0;32m     25\u001b[0m \u001b[43m    \u001b[49m\u001b[43mvalidation_data\u001b[49m\u001b[38;5;241;43m=\u001b[39;49m\u001b[43m(\u001b[49m\n\u001b[0;32m     26\u001b[0m \u001b[43m        \u001b[49m\u001b[43mx_test\u001b[49m\u001b[43m,\u001b[49m\u001b[43m \u001b[49m\n\u001b[0;32m     27\u001b[0m \u001b[43m        \u001b[49m\u001b[43m{\u001b[49m\n\u001b[0;32m     28\u001b[0m \u001b[43m            \u001b[49m\u001b[38;5;124;43m'\u001b[39;49m\u001b[38;5;124;43mage_output\u001b[39;49m\u001b[38;5;124;43m'\u001b[39;49m\u001b[43m:\u001b[49m\u001b[43m \u001b[49m\u001b[43mage_test\u001b[49m\u001b[43m,\u001b[49m\u001b[43m \u001b[49m\n\u001b[0;32m     29\u001b[0m \u001b[43m            \u001b[49m\u001b[38;5;124;43m'\u001b[39;49m\u001b[38;5;124;43mgender_output\u001b[39;49m\u001b[38;5;124;43m'\u001b[39;49m\u001b[43m:\u001b[49m\u001b[43m \u001b[49m\u001b[43mgender_test\u001b[49m\u001b[43m,\u001b[49m\u001b[43m \u001b[49m\n\u001b[0;32m     30\u001b[0m \u001b[43m            \u001b[49m\u001b[38;5;124;43m'\u001b[39;49m\u001b[38;5;124;43methnicity_output\u001b[39;49m\u001b[38;5;124;43m'\u001b[39;49m\u001b[43m:\u001b[49m\u001b[43m \u001b[49m\u001b[43methnicity_test\u001b[49m\n\u001b[0;32m     31\u001b[0m \u001b[43m        \u001b[49m\u001b[43m}\u001b[49m\n\u001b[0;32m     32\u001b[0m \u001b[43m    \u001b[49m\u001b[43m)\u001b[49m\u001b[43m,\u001b[49m\n\u001b[0;32m     33\u001b[0m \u001b[43m    \u001b[49m\u001b[43mepochs\u001b[49m\u001b[38;5;241;43m=\u001b[39;49m\u001b[38;5;241;43m5\u001b[39;49m\u001b[43m,\u001b[49m\n\u001b[0;32m     34\u001b[0m \u001b[43m    \u001b[49m\u001b[43mbatch_size\u001b[49m\u001b[38;5;241;43m=\u001b[39;49m\u001b[38;5;241;43m64\u001b[39;49m\u001b[43m,\u001b[49m\n\u001b[0;32m     35\u001b[0m \u001b[43m    \u001b[49m\u001b[43mcallbacks\u001b[49m\u001b[38;5;241;43m=\u001b[39;49m\u001b[43m[\u001b[49m\u001b[43mearly_stopper\u001b[49m\u001b[43m]\u001b[49m\n\u001b[0;32m     36\u001b[0m \u001b[43m)\u001b[49m\n",
      "File \u001b[1;32mc:\\Users\\gatz0\\Desktop\\Projects\\person-attribute-classification\\venv\\Lib\\site-packages\\keras\\src\\utils\\traceback_utils.py:122\u001b[0m, in \u001b[0;36mfilter_traceback.<locals>.error_handler\u001b[1;34m(*args, **kwargs)\u001b[0m\n\u001b[0;32m    119\u001b[0m     filtered_tb \u001b[38;5;241m=\u001b[39m _process_traceback_frames(e\u001b[38;5;241m.\u001b[39m__traceback__)\n\u001b[0;32m    120\u001b[0m     \u001b[38;5;66;03m# To get the full stack trace, call:\u001b[39;00m\n\u001b[0;32m    121\u001b[0m     \u001b[38;5;66;03m# `keras.config.disable_traceback_filtering()`\u001b[39;00m\n\u001b[1;32m--> 122\u001b[0m     \u001b[38;5;28;01mraise\u001b[39;00m e\u001b[38;5;241m.\u001b[39mwith_traceback(filtered_tb) \u001b[38;5;28;01mfrom\u001b[39;00m \u001b[38;5;28;01mNone\u001b[39;00m\n\u001b[0;32m    123\u001b[0m \u001b[38;5;28;01mfinally\u001b[39;00m:\n\u001b[0;32m    124\u001b[0m     \u001b[38;5;28;01mdel\u001b[39;00m filtered_tb\n",
      "File \u001b[1;32mc:\\Users\\gatz0\\Desktop\\Projects\\person-attribute-classification\\venv\\Lib\\site-packages\\keras\\src\\backend\\tensorflow\\nn.py:587\u001b[0m, in \u001b[0;36mcategorical_crossentropy\u001b[1;34m(target, output, from_logits, axis)\u001b[0m\n\u001b[0;32m    585\u001b[0m \u001b[38;5;28;01mfor\u001b[39;00m e1, e2 \u001b[38;5;129;01min\u001b[39;00m \u001b[38;5;28mzip\u001b[39m(target\u001b[38;5;241m.\u001b[39mshape, output\u001b[38;5;241m.\u001b[39mshape):\n\u001b[0;32m    586\u001b[0m     \u001b[38;5;28;01mif\u001b[39;00m e1 \u001b[38;5;129;01mis\u001b[39;00m \u001b[38;5;129;01mnot\u001b[39;00m \u001b[38;5;28;01mNone\u001b[39;00m \u001b[38;5;129;01mand\u001b[39;00m e2 \u001b[38;5;129;01mis\u001b[39;00m \u001b[38;5;129;01mnot\u001b[39;00m \u001b[38;5;28;01mNone\u001b[39;00m \u001b[38;5;129;01mand\u001b[39;00m e1 \u001b[38;5;241m!=\u001b[39m e2:\n\u001b[1;32m--> 587\u001b[0m         \u001b[38;5;28;01mraise\u001b[39;00m \u001b[38;5;167;01mValueError\u001b[39;00m(\n\u001b[0;32m    588\u001b[0m             \u001b[38;5;124m\"\u001b[39m\u001b[38;5;124mArguments `target` and `output` must have the same shape. \u001b[39m\u001b[38;5;124m\"\u001b[39m\n\u001b[0;32m    589\u001b[0m             \u001b[38;5;124m\"\u001b[39m\u001b[38;5;124mReceived: \u001b[39m\u001b[38;5;124m\"\u001b[39m\n\u001b[0;32m    590\u001b[0m             \u001b[38;5;124mf\u001b[39m\u001b[38;5;124m\"\u001b[39m\u001b[38;5;124mtarget.shape=\u001b[39m\u001b[38;5;132;01m{\u001b[39;00mtarget\u001b[38;5;241m.\u001b[39mshape\u001b[38;5;132;01m}\u001b[39;00m\u001b[38;5;124m, output.shape=\u001b[39m\u001b[38;5;132;01m{\u001b[39;00moutput\u001b[38;5;241m.\u001b[39mshape\u001b[38;5;132;01m}\u001b[39;00m\u001b[38;5;124m\"\u001b[39m\n\u001b[0;32m    591\u001b[0m         )\n\u001b[0;32m    593\u001b[0m output, from_logits \u001b[38;5;241m=\u001b[39m _get_logits(\n\u001b[0;32m    594\u001b[0m     output, from_logits, \u001b[38;5;124m\"\u001b[39m\u001b[38;5;124mSoftmax\u001b[39m\u001b[38;5;124m\"\u001b[39m, \u001b[38;5;124m\"\u001b[39m\u001b[38;5;124mcategorical_crossentropy\u001b[39m\u001b[38;5;124m\"\u001b[39m\n\u001b[0;32m    595\u001b[0m )\n\u001b[0;32m    596\u001b[0m \u001b[38;5;28;01mif\u001b[39;00m from_logits:\n",
      "\u001b[1;31mValueError\u001b[0m: Arguments `target` and `output` must have the same shape. Received: target.shape=(None, 5), output.shape=(None, 1)"
     ]
    }
   ],
   "source": [
    "# path = '../models/combined_model.h5'\n",
    "path = '../models/test_model.h5' ### Test\n",
    "\n",
    "# model_history = model.fit(\n",
    "#     x_train, y_train,\n",
    "#     validation_data=(\n",
    "#         x_test, \n",
    "#         y_test),\n",
    "#     callbacks=[early_stopper], # checkpoint_model\n",
    "#     batch_size=12,\n",
    "#     epochs=4\n",
    "#     )\n",
    "\n",
    "# model.save(path)\n",
    "\n",
    "\n",
    "### TEST\n",
    "model_history = model.fit(\n",
    "    x_train,\n",
    "    {\n",
    "        'age_output': age_train,\n",
    "        'gender_output': gender_train,\n",
    "        'ethnicity_output': ethnicity_train\n",
    "    },\n",
    "    validation_data=(\n",
    "        x_test,\n",
    "        {\n",
    "            'age_output': age_test,\n",
    "            'gender_output': gender_test,\n",
    "            'ethnicity_output': ethnicity_test\n",
    "        }\n",
    "    ),\n",
    "    epochs=50,\n",
    "    batch_size=64,\n",
    "    callbacks=[early_stopper]\n",
    ")\n",
    "\n",
    "model.save(path)"
   ]
  },
  {
   "cell_type": "code",
   "execution_count": 143,
   "metadata": {},
   "outputs": [
    {
     "data": {
      "image/png": "[encoded data removed]",
      "text/plain": [
       "<Figure size 640x480 with 1 Axes>"
      ]
     },
     "metadata": {},
     "output_type": "display_data"
    }
   ],
   "source": [
    "plt.plot(model_history.history['accuracy'], label='Training Accuracy')\n",
    "plt.plot(model_history.history['val_accuracy'], label='Validation Accuracy')\n",
    "plt.title('Model Accuracy')\n",
    "plt.ylabel('Accuracy')\n",
    "plt.xlabel('Epoch')\n",
    "plt.legend(loc='lower right')\n",
    "plt.show()"
   ]
  },
  {
   "cell_type": "code",
   "execution_count": 144,
   "metadata": {},
   "outputs": [
    {
     "name": "stdout",
     "output_type": "stream",
     "text": [
      "Final Training Accuracy: 96.90%\n",
      "Final Validation Accuracy: 96.29%\n"
     ]
    }
   ],
   "source": [
    "train_acc = model_history.history['accuracy'][-1]\n",
    "val_acc = model_history.history['val_accuracy'][-1]\n",
    "\n",
    "print(f\"Final Training Accuracy: {train_acc * 100:.2f}%\")\n",
    "print(f\"Final Validation Accuracy: {val_acc * 100:.2f}%\")"
   ]
  }
 ],
 "metadata": {
  "kernelspec": {
   "display_name": "venv",
   "language": "python",
   "name": "python3"
  },
  "language_info": {
   "codemirror_mode": {
    "name": "ipython",
    "version": 3
   },
   "file_extension": ".py",
   "mimetype": "text/x-python",
   "name": "python",
   "nbconvert_exporter": "python",
   "pygments_lexer": "ipython3",
   "version": "3.12.0"
  }
 },
 "nbformat": 4,
 "nbformat_minor": 2
}
