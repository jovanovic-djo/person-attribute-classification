{
 "cells": [
  {
   "cell_type": "code",
   "execution_count": 3,
   "metadata": {},
   "outputs": [],
   "source": [
    "import numpy as np\n",
    "import pandas as pd\n",
    "import matplotlib.pyplot  as plt\n",
    "from keras import layers as L\n",
    "from keras import Input\n",
    "from keras import Model\n",
    "from sklearn.model_selection import train_test_split\n",
    "import tensorflow as tf\n",
    "from tensorflow.keras.utils import to_categorical\n"
   ]
  },
  {
   "cell_type": "code",
   "execution_count": 4,
   "metadata": {},
   "outputs": [
    {
     "name": "stdout",
     "output_type": "stream",
     "text": [
      "   age  ethnicity  gender                        img_name  \\\n",
      "0    1          2       0  20161219203650636.jpg.chip.jpg   \n",
      "1    1          2       0  20161219222752047.jpg.chip.jpg   \n",
      "2    1          2       0  20161219222832191.jpg.chip.jpg   \n",
      "3    1          2       0  20161220144911423.jpg.chip.jpg   \n",
      "4    1          2       0  20161220144914327.jpg.chip.jpg   \n",
      "\n",
      "                                              pixels  \n",
      "0  129 128 128 126 127 130 133 135 139 142 145 14...  \n",
      "1  164 74 111 168 169 171 175 182 184 188 193 199...  \n",
      "2  67 70 71 70 69 67 70 79 90 103 116 132 145 155...  \n",
      "3  193 197 198 200 199 200 202 203 204 205 208 21...  \n",
      "4  202 205 209 210 209 209 210 211 212 214 218 21...  \n"
     ]
    }
   ],
   "source": [
    "df = pd.read_csv(\"../data/people_data.csv\")\n",
    "print(df.head())\n",
    "df = df.drop(\"img_name\",axis=1)"
   ]
  }
 ],
 "metadata": {
  "kernelspec": {
   "display_name": "venv",
   "language": "python",
   "name": "python3"
  },
  "language_info": {
   "codemirror_mode": {
    "name": "ipython",
    "version": 3
   },
   "file_extension": ".py",
   "mimetype": "text/x-python",
   "name": "python",
   "nbconvert_exporter": "python",
   "pygments_lexer": "ipython3",
   "version": "3.12.0"
  }
 },
 "nbformat": 4,
 "nbformat_minor": 2
}
